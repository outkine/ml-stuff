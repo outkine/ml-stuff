{
 "cells": [
  {
   "cell_type": "code",
   "execution_count": 2,
   "metadata": {
    "autoscroll": false,
    "ein.hycell": false,
    "ein.tags": "worksheet-0",
    "scrolled": true,
    "slideshow": {
     "slide_type": "-"
    }
   },
   "outputs": [
    {
     "data": {
      "text/plain": [
       "device(type='cuda')"
      ]
     },
     "execution_count": 2,
     "metadata": {},
     "output_type": "execute_result"
    }
   ],
   "source": [
    "%matplotlib inline\n",
    "import torch\n",
    "import torch.nn as nn\n",
    "import spacy\n",
    "import gutenberg.acquire\n",
    "import gutenberg.cleanup\n",
    "import string\n",
    "# from tqdm import tqdm\n",
    "from tqdm import tqdm_notebook as tqdm \n",
    "import matplotlib.pyplot as plt\n",
    "from livelossplot import PlotLosses\n",
    "import random\n",
    "import requests\n",
    "\n",
    "device = torch.device('cuda' if torch.cuda.is_available() else 'cpu')\n",
    "device"
   ]
  },
  {
   "cell_type": "code",
   "execution_count": 3,
   "metadata": {
    "autoscroll": false,
    "ein.hycell": false,
    "ein.tags": "worksheet-0",
    "slideshow": {
     "slide_type": "-"
    }
   },
   "outputs": [],
   "source": [
    "import pickle\n",
    "import os\n",
    "\n",
    "def read_or_pickle(path, load_default):\n",
    "    path += '.pickle'\n",
    "    if os.path.isfile(path):\n",
    "        return pickle.load(open(path, 'rb'))\n",
    "    else:\n",
    "        data = load_default()\n",
    "        pickle.dump(data, open(path, 'wb'))\n",
    "        return data\n",
    "\n",
    "def load_book(id):\n",
    "    return gutenberg.cleanup.strip_headers(gutenberg.acquire.load_etext(id)).strip()"
   ]
  },
  {
   "cell_type": "code",
   "execution_count": 4,
   "metadata": {
    "autoscroll": false,
    "ein.hycell": false,
    "ein.tags": "worksheet-0",
    "slideshow": {
     "slide_type": "-"
    }
   },
   "outputs": [],
   "source": [
    "class CharRNN(torch.nn.Module):\n",
    "    def __init__(self, input_size, hidden_size, output_size, model, n_layers):\n",
    "        super().__init__()\n",
    "\n",
    "        self.encoder = nn.Embedding(input_size, hidden_size)\n",
    "        if model == 'gru':\n",
    "            self.rnn = nn.GRU(hidden_size, hidden_size, n_layers)\n",
    "        else:\n",
    "            self.rnn = nn.LSTM(hidden_size, hidden_size, n_layers)\n",
    "        self.decoder = nn.Linear(hidden_size, output_size) \n",
    "\n",
    "    def forward(self, inp, hidden):\n",
    "        batch_size = inp.size(0)\n",
    "        encoded = self.encoder(inp)\n",
    "        output, hidden = self.rnn(encoded.view(1, batch_size, -1), hidden)\n",
    "        output = self.decoder(output.view(batch_size, -1))\n",
    "        return output, hidden"
   ]
  },
  {
   "cell_type": "code",
   "execution_count": 5,
   "metadata": {
    "autoscroll": false,
    "ein.hycell": false,
    "ein.tags": "worksheet-0",
    "slideshow": {
     "slide_type": "-"
    }
   },
   "outputs": [],
   "source": [
    "def char_tensor(chars_ix):\n",
    "    return torch.tensor(chars_ix, dtype=torch.long, device=device)\n",
    "\n",
    "\n",
    "def random_training_set(doc, doc_len, chunk_len, batch_size):\n",
    "    inp = torch.zeros(batch_size, chunk_len, dtype=torch.long, device=device)\n",
    "    target = inp.clone()\n",
    "\n",
    "    for i in range(batch_size):\n",
    "        start_index = random.randrange(doc_len - (chunk_len + 1))\n",
    "        end_index = start_index + chunk_len + 1\n",
    "        chunk = doc[start_index:end_index]\n",
    "        inp[i] = char_tensor(chunk[:-1])\n",
    "        target[i] = char_tensor(chunk[1:])\n",
    "\n",
    "    return inp, target"
   ]
  },
  {
   "cell_type": "code",
   "execution_count": 6,
   "metadata": {
    "autoscroll": false,
    "ein.hycell": false,
    "ein.tags": "worksheet-0",
    "slideshow": {
     "slide_type": "-"
    }
   },
   "outputs": [],
   "source": [
    "def train(vocab, inp, target, net, criterion, optimizer, scheduler, teacher_ratio):\n",
    "    batch_size = inp.size(0)\n",
    "    hidden = None\n",
    "    net.zero_grad()\n",
    "    loss = 0\n",
    "\n",
    "    for i in range(inp.size(1)):\n",
    "        if i == 0 or random.random() < teacher_ratio:\n",
    "            actual_inp = inp[:, i]\n",
    "        else:\n",
    "            actual_inp = torch.zeros(\n",
    "                batch_size, 1, dtype=torch.long, device=device)\n",
    "            for bi, max_i in enumerate(last_output.argmax(1)):\n",
    "                actual_inp[bi] = max_i\n",
    "        output, hidden = net(actual_inp, hidden)\n",
    "        output = output.view(batch_size, -1)\n",
    "        last_output = output\n",
    "        loss += criterion(output.view(batch_size, -1), target[:, i])\n",
    "\n",
    "    loss.backward()\n",
    "    optimizer.step()\n",
    "    scheduler.step()\n",
    "\n",
    "    return loss.item() / inp.size(1)"
   ]
  },
  {
   "cell_type": "code",
   "execution_count": 7,
   "metadata": {
    "autoscroll": false,
    "ein.hycell": false,
    "ein.tags": "worksheet-0",
    "slideshow": {
     "slide_type": "-"
    }
   },
   "outputs": [],
   "source": [
    "def run_train(doc,\n",
    "              doc_len,\n",
    "              net,\n",
    "              criterion,\n",
    "              optimizer,\n",
    "              scheduler,\n",
    "              n_epochs,\n",
    "              chunk_len,\n",
    "              batch_size,\n",
    "              teacher_ratio,\n",
    "              plot_every=1):\n",
    "    losses = []\n",
    "\n",
    "    for epoch in tqdm(range(n_epochs)):\n",
    "        inp, target = random_training_set(doc, doc_len, chunk_len, batch_size)\n",
    "        loss = train(vocab, inp, target, net, criterion, optimizer, scheduler,\n",
    "                     teacher_ratio)\n",
    "\n",
    "        if DEBUG:\n",
    "            return\n",
    "\n",
    "        if LIVE_PLOT:\n",
    "            liveloss.update({'loss': loss / plot_every})\n",
    "            liveloss.draw()\n",
    "\n",
    "        losses.append(loss / plot_every)\n",
    "\n",
    "    plt.figure()\n",
    "    plt.plot(losses)\n",
    "\n",
    "    print(f'Final loss: {losses[-1]}')"
   ]
  },
  {
   "cell_type": "code",
   "execution_count": 8,
   "metadata": {
    "autoscroll": false,
    "ein.hycell": false,
    "ein.tags": "worksheet-0",
    "slideshow": {
     "slide_type": "-"
    }
   },
   "outputs": [],
   "source": [
    "def to_index(string):\n",
    "    return list(map(vocab.index, string))\n",
    "\n",
    "\n",
    "doc = requests.get('https://www.gutenberg.org/files/84/84-0.txt').text\n",
    "vocab = list(set(doc))\n",
    "doc = to_index(doc)\n",
    "doc_len = len(doc)"
   ]
  },
  {
   "cell_type": "code",
   "execution_count": 9,
   "metadata": {
    "autoscroll": false,
    "ein.hycell": false,
    "ein.tags": "worksheet-0",
    "slideshow": {
     "slide_type": "-"
    }
   },
   "outputs": [],
   "source": [
    "DEBUG = False\n",
    "LIVE_PLOT = False\n",
    "STATES_DIR = './states'\n",
    "liveloss = PlotLosses()\n",
    "hidden_size = 100\n",
    "n_layers = 2\n",
    "model = 'lstm'\n",
    "learning_rate = 0.01\n",
    "n_epochs = 3000\n",
    "chunk_len = 200\n",
    "batch_size = 100\n",
    "teacher_ratio = 0.8\n",
    "\n",
    "net = CharRNN(len(vocab), hidden_size, len(vocab), model, n_layers)\n",
    "if torch.cuda.device_count() > 1:\n",
    "  net = nn.DataParallel(net, range(8))\n",
    "net.to(device)\n",
    "\n",
    "criterion = nn.CrossEntropyLoss()\n",
    "optimizer = torch.optim.Adam(net.parameters(), lr=learning_rate)\n",
    "scheduler = torch.optim.lr_scheduler.CosineAnnealingLR(optimizer, 200)"
   ]
  },
  {
   "cell_type": "code",
   "execution_count": null,
   "metadata": {},
   "outputs": [],
   "source": [
    "run_train(doc, doc_len, net, criterion, optimizer, scheduler, n_epochs, chunk_len, batch_size, teacher_ratio)"
   ]
  },
  {
   "cell_type": "code",
   "execution_count": 13,
   "metadata": {
    "autoscroll": false,
    "ein.hycell": false,
    "ein.tags": "worksheet-0",
    "scrolled": true,
    "slideshow": {
     "slide_type": "-"
    }
   },
   "outputs": [
    {
     "name": "stdout",
     "output_type": "stream",
     "text": [
      "SAVED AS 0\n"
     ]
    }
   ],
   "source": [
    "if not os.path.isdir(STATES_DIR):\n",
    "    os.makedirs(STATES_DIR)\n",
    "    \n",
    "i = 0\n",
    "while True:\n",
    "    path = os.path.join(STATES_DIR, f'state{i}.pt')\n",
    "    if not os.path.isfile(path):\n",
    "        torch.save(net.state_dict(), path)\n",
    "        print(f'SAVED AS {i}')\n",
    "        break\n",
    "    i += 1"
   ]
  },
  {
   "cell_type": "code",
   "execution_count": 11,
   "metadata": {
    "autoscroll": false,
    "ein.hycell": false,
    "ein.tags": "worksheet-0",
    "scrolled": true,
    "slideshow": {
     "slide_type": "-"
    }
   },
   "outputs": [],
   "source": [
    "def clone_hidden(hidden):\n",
    "    if type(hidden) is tuple:\n",
    "        return (hidden[0].clone(), hidden[1].clone())\n",
    "    return hidden.clone() \n",
    "    \n",
    "\n",
    "def sample(vocab, net, prime_str, predict_len, beam_number):\n",
    "    with torch.no_grad():\n",
    "        prime_str = to_index(prime_str)\n",
    "\n",
    "        hidden = None\n",
    "        prime_inp = char_tensor(prime_str).unsqueeze(0)\n",
    "        for i in range(len(prime_str)):\n",
    "            _, hidden = net(prime_inp[:, i], hidden)\n",
    "        \n",
    "        if not USE_BEAM:\n",
    "            result = prime_str\n",
    "            for i in range(predict_len):\n",
    "                inp = char_tensor(result[-1]).unsqueeze(0)\n",
    "                output, hidden = net(inp, hidden)\n",
    "                output_dist = output.data.view(-1).div(temperature).exp()\n",
    "                result.append(output_dist.argmax().item())\n",
    "\n",
    "            return ''.join([vocab[i] for i in result])\n",
    "        \n",
    "        beams = [(hidden, prime_str)]\n",
    "\n",
    "        for i in range(predict_len):\n",
    "            output_pairs = []\n",
    "            new_hidden = []\n",
    "            for beami, (hidden, result) in enumerate(beams):\n",
    "                inp = char_tensor(result[-1]).unsqueeze(0)\n",
    "                output, hidden = net(inp, hidden)\n",
    "                output = output.data.view(-1)\n",
    "\n",
    "                output_pairs.extend([\n",
    "                    (i, out.item(), beami) \n",
    "                    for i, out in enumerate(output)])\n",
    "                new_hidden.append(hidden)\n",
    "\n",
    "            output_pairs.sort(key=lambda pair: pair[1], reverse=True)\n",
    "\n",
    "            new_beams = []\n",
    "            for outi, _outv, beami in output_pairs[:beam_number]:\n",
    "                current_result = beams[beami][1]\n",
    "                new_result = list(current_result)\n",
    "                new_result.append(outi)\n",
    "                new_beams.append((clone_hidden(new_hidden[beami]), new_result))\n",
    "            beams = new_beams\n",
    "\n",
    "        return list(\n",
    "            map(lambda beam: ''.join(map(lambda i: vocab[i], beam[1])),\n",
    "                new_beams))"
   ]
  },
  {
   "cell_type": "code",
   "execution_count": 19,
   "metadata": {
    "autoscroll": false,
    "ein.hycell": false,
    "ein.tags": "worksheet-0",
    "slideshow": {
     "slide_type": "-"
    }
   },
   "outputs": [
    {
     "ename": "KeyboardInterrupt",
     "evalue": "",
     "output_type": "error",
     "traceback": [
      "\u001b[0;31m---------------------------------------------------------------------------\u001b[0m",
      "\u001b[0;31mKeyboardInterrupt\u001b[0m                         Traceback (most recent call last)",
      "\u001b[0;32m<ipython-input-19-1a0ef02cd711>\u001b[0m in \u001b[0;36m<module>\u001b[0;34m()\u001b[0m\n\u001b[1;32m      7\u001b[0m \u001b[0;34m\u001b[0m\u001b[0m\n\u001b[1;32m      8\u001b[0m \u001b[0mnet\u001b[0m\u001b[0;34m.\u001b[0m\u001b[0mload_state_dict\u001b[0m\u001b[0;34m(\u001b[0m\u001b[0mtorch\u001b[0m\u001b[0;34m.\u001b[0m\u001b[0mload\u001b[0m\u001b[0;34m(\u001b[0m\u001b[0mos\u001b[0m\u001b[0;34m.\u001b[0m\u001b[0mpath\u001b[0m\u001b[0;34m.\u001b[0m\u001b[0mjoin\u001b[0m\u001b[0;34m(\u001b[0m\u001b[0mSTATES_DIR\u001b[0m\u001b[0;34m,\u001b[0m \u001b[0;34m'state0.pt'\u001b[0m\u001b[0;34m)\u001b[0m\u001b[0;34m)\u001b[0m\u001b[0;34m)\u001b[0m\u001b[0;34m\u001b[0m\u001b[0;34m\u001b[0m\u001b[0m\n\u001b[0;32m----> 9\u001b[0;31m \u001b[0mres\u001b[0m \u001b[0;34m=\u001b[0m \u001b[0msample\u001b[0m\u001b[0;34m(\u001b[0m\u001b[0mvocab\u001b[0m\u001b[0;34m,\u001b[0m \u001b[0mnet\u001b[0m\u001b[0;34m,\u001b[0m \u001b[0mprime_str\u001b[0m\u001b[0;34m,\u001b[0m \u001b[0mpredict_len\u001b[0m\u001b[0;34m,\u001b[0m \u001b[0mbeam_number\u001b[0m\u001b[0;34m)\u001b[0m\u001b[0;34m\u001b[0m\u001b[0;34m\u001b[0m\u001b[0m\n\u001b[0m\u001b[1;32m     10\u001b[0m \u001b[0;34m\u001b[0m\u001b[0m\n\u001b[1;32m     11\u001b[0m \u001b[0;32mif\u001b[0m \u001b[0;32mnot\u001b[0m \u001b[0mUSE_BEAM\u001b[0m\u001b[0;34m:\u001b[0m\u001b[0;34m\u001b[0m\u001b[0;34m\u001b[0m\u001b[0m\n",
      "\u001b[0;32m<ipython-input-11-54b4c4a60951>\u001b[0m in \u001b[0;36msample\u001b[0;34m(vocab, net, prime_str, predict_len, beam_number)\u001b[0m\n\u001b[1;32m     36\u001b[0m                 output_pairs.extend([\n\u001b[1;32m     37\u001b[0m                     \u001b[0;34m(\u001b[0m\u001b[0mi\u001b[0m\u001b[0;34m,\u001b[0m \u001b[0mout\u001b[0m\u001b[0;34m.\u001b[0m\u001b[0mitem\u001b[0m\u001b[0;34m(\u001b[0m\u001b[0;34m)\u001b[0m\u001b[0;34m,\u001b[0m \u001b[0mbeami\u001b[0m\u001b[0;34m)\u001b[0m\u001b[0;34m\u001b[0m\u001b[0;34m\u001b[0m\u001b[0m\n\u001b[0;32m---> 38\u001b[0;31m                     for i, out in enumerate(output)])\n\u001b[0m\u001b[1;32m     39\u001b[0m                 \u001b[0mnew_hidden\u001b[0m\u001b[0;34m.\u001b[0m\u001b[0mappend\u001b[0m\u001b[0;34m(\u001b[0m\u001b[0mhidden\u001b[0m\u001b[0;34m)\u001b[0m\u001b[0;34m\u001b[0m\u001b[0;34m\u001b[0m\u001b[0m\n\u001b[1;32m     40\u001b[0m \u001b[0;34m\u001b[0m\u001b[0m\n",
      "\u001b[0;32m<ipython-input-11-54b4c4a60951>\u001b[0m in \u001b[0;36m<listcomp>\u001b[0;34m(.0)\u001b[0m\n\u001b[1;32m     36\u001b[0m                 output_pairs.extend([\n\u001b[1;32m     37\u001b[0m                     \u001b[0;34m(\u001b[0m\u001b[0mi\u001b[0m\u001b[0;34m,\u001b[0m \u001b[0mout\u001b[0m\u001b[0;34m.\u001b[0m\u001b[0mitem\u001b[0m\u001b[0;34m(\u001b[0m\u001b[0;34m)\u001b[0m\u001b[0;34m,\u001b[0m \u001b[0mbeami\u001b[0m\u001b[0;34m)\u001b[0m\u001b[0;34m\u001b[0m\u001b[0;34m\u001b[0m\u001b[0m\n\u001b[0;32m---> 38\u001b[0;31m                     for i, out in enumerate(output)])\n\u001b[0m\u001b[1;32m     39\u001b[0m                 \u001b[0mnew_hidden\u001b[0m\u001b[0;34m.\u001b[0m\u001b[0mappend\u001b[0m\u001b[0;34m(\u001b[0m\u001b[0mhidden\u001b[0m\u001b[0;34m)\u001b[0m\u001b[0;34m\u001b[0m\u001b[0;34m\u001b[0m\u001b[0m\n\u001b[1;32m     40\u001b[0m \u001b[0;34m\u001b[0m\u001b[0m\n",
      "\u001b[0;31mKeyboardInterrupt\u001b[0m: "
     ]
    }
   ],
   "source": [
    "USE_BEAM = True\n",
    "\n",
    "prime_str = 'Wow'\n",
    "predict_len = 100\n",
    "beam_number = 40\n",
    "\n",
    "\n",
    "net.load_state_dict(torch.load(os.path.join(STATES_DIR, 'state0.pt')))\n",
    "res = sample(vocab, net, prime_str, predict_len, beam_number)\n",
    "\n",
    "if not USE_BEAM:\n",
    "    print(res)\n",
    "else:\n",
    "    for pred in res:\n",
    "       print('===START===')\n",
    "       print(pred)\n",
    "       print('\\n\\n')"
   ]
  },
  {
   "cell_type": "code",
   "execution_count": null,
   "metadata": {},
   "outputs": [],
   "source": []
  },
  {
   "cell_type": "code",
   "execution_count": null,
   "metadata": {},
   "outputs": [],
   "source": []
  }
 ],
 "metadata": {
  "kernelspec": {
   "display_name": "Python 3",
   "language": "python",
   "name": "python3"
  },
  "language_info": {
   "codemirror_mode": {
    "name": "ipython",
    "version": 3
   },
   "file_extension": ".py",
   "mimetype": "text/x-python",
   "name": "python",
   "nbconvert_exporter": "python",
   "pygments_lexer": "ipython3",
   "version": "3.7.1"
  },
  "name": "Frankenstein.ipynb"
 },
 "nbformat": 4,
 "nbformat_minor": 2
}
