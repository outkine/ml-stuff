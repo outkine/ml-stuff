{
 "cells": [
  {
   "cell_type": "code",
   "execution_count": null,
   "metadata": {
    "scrolled": true
   },
   "outputs": [],
   "source": [
    "%matplotlib inline\n",
    "import torch\n",
    "import torch.nn as nn\n",
    "import spacy\n",
    "import gutenberg.acquire\n",
    "import gutenberg.cleanup\n",
    "import string\n",
    "from tqdm import tqdm_notebook as tqdm\n",
    "import matplotlib.pyplot as plt\n",
    "from livelossplot import PlotLosses\n",
    "from pprint import pprint\n",
    "\n",
    "device = torch.device('cuda' if torch.cuda.is_available() else 'cpu')\n",
    "device"
   ]
  },
  {
   "cell_type": "code",
   "execution_count": 167,
   "metadata": {},
   "outputs": [],
   "source": [
    "nlp = spacy.load('en_core_web_sm')\n",
    "book = gutenberg.cleanup.strip_headers(gutenberg.acquire.load_etext(84)).strip()\n",
    "doc = nlp(book)"
   ]
  },
  {
   "cell_type": "code",
   "execution_count": 197,
   "metadata": {},
   "outputs": [],
   "source": [
    "class Net(torch.nn.Module):\n",
    "    def __init__(self, input_size, hidden_size, output_size):\n",
    "        super().__init__()\n",
    "        self.hidden_size = hidden_size\n",
    "        self.gru = nn.GRU(input_size, hidden_size)\n",
    "        self.out = nn.Linear(hidden_size, output_size)\n",
    "        self.softmax = nn.LogSoftmax(dim=2)\n",
    "    \n",
    "    def forward(self, input, previous_hidden):\n",
    "        output, hidden = self.gru(input, previous_hidden)\n",
    "        output = self.out(output)\n",
    "        output = self.softmax(output)\n",
    "        return output, hidden\n",
    "    \n",
    "    def init_hidden(self):\n",
    "        return torch.rand(1, 1, self.hidden_size, device=device)"
   ]
  },
  {
   "cell_type": "code",
   "execution_count": 189,
   "metadata": {},
   "outputs": [],
   "source": [
    "def input_tensor(chars, vocab):\n",
    "    tensor = torch.zeros(len(chars) + 1, 1, len(vocab) + 1, device=device)\n",
    "    tensor[0][0][len(vocab)] = 1 # START TOKEN\n",
    "    for i in range(len(chars)):\n",
    "         tensor[i + 1][0][vocab.index(chars[i])] = 1\n",
    "    return tensor\n",
    "\n",
    "def target_tensor(chars, vocab):\n",
    "    indexes = [vocab.index(char) for char in chars]\n",
    "    indexes.append(len(vocab)) # END TOKEN\n",
    "    tensor = torch.tensor(indexes, device=device)\n",
    "    tensor.unsqueeze_(-1)\n",
    "    return tensor"
   ]
  },
  {
   "cell_type": "code",
   "execution_count": 190,
   "metadata": {},
   "outputs": [],
   "source": [
    "def train(input, target, net, criterion, optimizer):\n",
    "    hidden = net.init_hidden()\n",
    "    net.zero_grad()\n",
    "    loss = 0\n",
    "    output, hidden = net(input, hidden)\n",
    "    for pred, target in zip(output, target):\n",
    "        loss += criterion(pred, target)\n",
    "        \n",
    "    loss.backward()\n",
    "    optimizer.step()\n",
    "    return loss.item()"
   ]
  },
  {
   "cell_type": "code",
   "execution_count": 194,
   "metadata": {},
   "outputs": [],
   "source": [
    "def run_train(vocab, inputs, net, criterion, optimizer, plot_every=100):\n",
    "    losses = []\n",
    "    loss = 0\n",
    "    \n",
    "    for i, input in tqdm(list(enumerate(inputs))):\n",
    "        loss += train(input_tensor(input, vocab), target_tensor(input, vocab), net, criterion, optimizer)\n",
    "\n",
    "        if DEBUG: return\n",
    "\n",
    "        if i % plot_every == 0:\n",
    "            if LIVE_PLOT:\n",
    "                 liveloss.update({'loss': loss / plot_every})\n",
    "                 liveloss.draw()\n",
    "                \n",
    "            losses.append(loss / plot_every)\n",
    "            loss = 0\n",
    "        \n",
    "\n",
    "    plt.figure()\n",
    "    plt.plot(losses)\n",
    "    \n",
    "    return losses[-1]\n",
    "    "
   ]
  },
  {
   "cell_type": "code",
   "execution_count": 198,
   "metadata": {},
   "outputs": [],
   "source": [
    "vocab = list(set(book))\n",
    "sents = list(doc.sents)[10:]\n",
    "sents = filter(lambda sent: len(sent.text.split(' ')) > 4, sents)\n",
    "sents = map(lambda sent: list(filter(lambda char: char != '\\n', sent.text)), sents)\n",
    "sents = list(sents)"
   ]
  },
  {
   "cell_type": "code",
   "execution_count": 200,
   "metadata": {
    "scrolled": false
   },
   "outputs": [
    {
     "data": {
      "application/vnd.jupyter.widget-view+json": {
       "model_id": "97714a054d5848fdbd8acb5237b499d9",
       "version_major": 2,
       "version_minor": 0
      },
      "text/plain": [
       "HBox(children=(IntProgress(value=0, max=3295), HTML(value='')))"
      ]
     },
     "metadata": {},
     "output_type": "display_data"
    },
    {
     "data": {
      "text/plain": [
       "199.9036990737915"
      ]
     },
     "execution_count": 200,
     "metadata": {},
     "output_type": "execute_result"
    },
    {
     "data": {
      "image/png": "[encoded data removed]",
      "text/plain": [
       "<Figure size 432x288 with 1 Axes>"
      ]
     },
     "metadata": {
      "needs_background": "light"
     },
     "output_type": "display_data"
    }
   ],
   "source": [
    "DEBUG = False\n",
    "LIVE_PLOT = False\n",
    "liveloss = PlotLosses()\n",
    "net = Net(len(vocab) + 1, 100, len(vocab) + 1).to(device)\n",
    "criterion = nn.NLLLoss()\n",
    "optimizer = torch.optim.SGD(net.parameters(), lr=0.01)\n",
    "\n",
    "\n",
    "run_train(vocab, sents, net, criterion, optimizer)"
   ]
  },
  {
   "cell_type": "code",
   "execution_count": null,
   "metadata": {},
   "outputs": [],
   "source": [
    "def sample(vocab, net, max_length=100, beam_number=20):\n",
    "    with torch.no_grad(): \n",
    "        output_sents = []\n",
    "        beams = [(net.init_hidden(), [''])]\n",
    "        \n",
    "        for i in range(max_length):\n",
    "            output_pairs = []\n",
    "            new_hidden = []\n",
    "            for beami, (hidden, result) in enumerate(beams):\n",
    "                tensor = input_tensor(result[-1], vocab)\n",
    "                output, hidden = net(tensor, hidden)\n",
    "                \n",
    "                output_pairs += map(lambda pair: (pair[0], pair[1].item(), beami), enumerate(output[0][0]))\n",
    "                new_hidden.append(hidden)\n",
    "            \n",
    "            output_pairs.sort(key=lambda pair: pair[1], reverse=True)\n",
    "            \n",
    "            new_beams = []\n",
    "            for outi, _outv, beami in output_pairs[:beam_number]:\n",
    "                result = list(beams[beami][1])\n",
    "                \n",
    "                if outi == len(vocab): # END TOKEN\n",
    "                    output_sents.append(result)\n",
    "                else:\n",
    "                    char = vocab[outi]\n",
    "                    result.append(char)\n",
    "                    \n",
    "                    if i == max_length - 1:\n",
    "                        output_sents.append(result)\n",
    "                    else:\n",
    "                        new_beams.append((new_hidden[beami].clone(), result))\n",
    "            beams = new_beams\n",
    "            \n",
    "        return list(map(''.join, output_sents))\n",
    "    \n",
    "result = sample(vocab, net)\n",
    "print('\\n\\n'.join(result))"
   ]
  },
  {
   "cell_type": "code",
   "execution_count": null,
   "metadata": {},
   "outputs": [],
   "source": []
  }
 ],
 "metadata": {
  "kernelspec": {
   "display_name": "Python 3",
   "language": "python",
   "name": "python3"
  },
  "language_info": {
   "codemirror_mode": {
    "name": "ipython",
    "version": 3
   },
   "file_extension": ".py",
   "mimetype": "text/x-python",
   "name": "python",
   "nbconvert_exporter": "python",
   "pygments_lexer": "ipython3",
   "version": "3.7.1"
  }
 },
 "nbformat": 4,
 "nbformat_minor": 2
}
