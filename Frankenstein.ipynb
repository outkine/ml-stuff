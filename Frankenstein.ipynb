{
 "cells": [
  {
   "cell_type": "code",
   "execution_count": 1,
   "metadata": {
    "autoscroll": false,
    "ein.hycell": false,
    "ein.tags": "worksheet-0",
    "scrolled": true,
    "slideshow": {
     "slide_type": "-"
    }
   },
   "outputs": [
    {
     "data": {
      "text/plain": [
       "device(type='cuda')"
      ]
     },
     "execution_count": 1,
     "metadata": {},
     "output_type": "execute_result"
    }
   ],
   "source": [
    "%matplotlib inline\n",
    "import torch\n",
    "import torch.nn as nn\n",
    "import spacy\n",
    "import gutenberg.acquire\n",
    "import gutenberg.cleanup\n",
    "import string\n",
    "from tqdm import tqdm\n",
    "import matplotlib.pyplot as plt\n",
    "from livelossplot import PlotLosses\n",
    "import random\n",
    "\n",
    "device = torch.device('cuda' if torch.cuda.is_available() else 'cpu')\n",
    "device"
   ]
  },
  {
   "cell_type": "code",
   "execution_count": 2,
   "metadata": {
    "autoscroll": false,
    "ein.hycell": false,
    "ein.tags": "worksheet-0",
    "slideshow": {
     "slide_type": "-"
    }
   },
   "outputs": [],
   "source": [
    "import pickle\n",
    "import os\n",
    "\n",
    "def read_or_pickle(path, load_default):\n",
    "    path += '.pickle'\n",
    "    if os.path.isfile(path):\n",
    "        return pickle.load(open(path, 'rb'))\n",
    "    else:\n",
    "        data = load_default()\n",
    "        pickle.dump(data, open(path, 'wb'))\n",
    "        return data\n",
    "\n",
    "def load_book(id):\n",
    "    return gutenberg.cleanup.strip_headers(gutenberg.acquire.load_etext(id)).strip()"
   ]
  },
  {
   "cell_type": "code",
   "execution_count": 3,
   "metadata": {
    "autoscroll": false,
    "ein.hycell": false,
    "ein.tags": "worksheet-0",
    "slideshow": {
     "slide_type": "-"
    }
   },
   "outputs": [],
   "source": [
    "class CharRNN(torch.nn.Module):\n",
    "    def __init__(self, input_size, hidden_size, output_size, model, n_layers):\n",
    "        super().__init__()\n",
    "\n",
    "\n",
    "        self.encoder = nn.Embedding(input_size, hidden_size)\n",
    "        if model == 'gru':\n",
    "            self.rnn = nn.GRU(hidden_size, hidden_size, n_layers)\n",
    "        else:\n",
    "            self.rnn = nn.LSTM(hidden_size, hidden_size, n_layers)\n",
    "        self.decoder = nn.Linear(hidden_size, output_size) \n",
    "\n",
    "    def forward(self, inp, hidden):\n",
    "        batch_size = inp.size(0)\n",
    "        encoded = self.encoder(inp)\n",
    "        output, hidden = self.rnn(encoded.view(1, batch_size, -1), hidden)\n",
    "        output = self.decoder(output.view(batch_size, -1))\n",
    "        return output, hidden"
   ]
  },
  {
   "cell_type": "code",
   "execution_count": 4,
   "metadata": {
    "autoscroll": false,
    "ein.hycell": false,
    "ein.tags": "worksheet-0",
    "slideshow": {
     "slide_type": "-"
    }
   },
   "outputs": [],
   "source": [
    "def char_tensor(chars, vocab):\n",
    "    tensor = torch.zeros(len(chars), dtype=torch.long, device=device)\n",
    "    for i, char in enumerate(chars):\n",
    "        tensor[i] = vocab.index(char)\n",
    "    return tensor \n",
    "\n",
    "def random_training_set(doc, vocab, chunk_len, batch_size):\n",
    "    inp = torch.zeros(batch_size, chunk_len, dtype=torch.long, device=device)\n",
    "    target = inp.clone()\n",
    "    file_len = len(doc)\n",
    "\n",
    "    for i in range(batch_size):\n",
    "        start_index = random.randrange(file_len - (chunk_len + 1))\n",
    "        end_index = start_index + chunk_len + 1\n",
    "        chunk = doc[start_index:end_index]\n",
    "        inp[i] = char_tensor(chunk[:-1], vocab)\n",
    "        target[i] = char_tensor(chunk[1:], vocab)\n",
    "\n",
    "    return inp, target"
   ]
  },
  {
   "cell_type": "code",
   "execution_count": 5,
   "metadata": {
    "autoscroll": false,
    "ein.hycell": false,
    "ein.tags": "worksheet-0",
    "slideshow": {
     "slide_type": "-"
    }
   },
   "outputs": [],
   "source": [
    "def train(vocab, inp, target, net, criterion, optimizer, teacher_ratio):\n",
    "    batch_size = inp.size(0)\n",
    "    hidden = None\n",
    "    net.zero_grad()\n",
    "    loss = 0\n",
    "\n",
    "    for i in range(inp.size(1)):\n",
    "      if i == 0 or random.random() > teacher_ratio:\n",
    "        actual_inp = inp[:,i]\n",
    "      else:\n",
    "        actual_inp = torch.zeros(batch_size, 1, dtype=torch.long, device=device)\n",
    "        for bi, max_i in enumerate(last_output.argmax(1)):\n",
    "          actual_inp[bi] = max_i\n",
    "      output, hidden = net(actual_inp, hidden)\n",
    "      output = output.view(batch_size, -1)\n",
    "      last_output = output\n",
    "      loss += criterion(output.view(batch_size, -1), target[:,i])\n",
    "\n",
    "    loss.backward()\n",
    "    optimizer.step()\n",
    "\n",
    "    return loss.item() / inp.size(1)"
   ]
  },
  {
   "cell_type": "code",
   "execution_count": 6,
   "metadata": {
    "autoscroll": false,
    "ein.hycell": false,
    "ein.tags": "worksheet-0",
    "slideshow": {
     "slide_type": "-"
    }
   },
   "outputs": [],
   "source": [
    "def run_train(doc, vocab, net, criterion, optimizer, n_epochs, chunk_len, batch_size, teacher_ratio, plot_every=1):\n",
    "    losses = []\n",
    "\n",
    "    for epoch in tqdm(range(n_epochs)):\n",
    "        inp, target = random_training_set(doc, vocab, chunk_len, batch_size)\n",
    "        loss = train(vocab, inp, target, net, criterion, optimizer, teacher_ratio)\n",
    "\n",
    "        if DEBUG:\n",
    "            return\n",
    "\n",
    "        if LIVE_PLOT:\n",
    "            liveloss.update({'loss': loss / plot_every})\n",
    "            liveloss.draw()\n",
    "\n",
    "        losses.append(loss / plot_every)\n",
    "\n",
    "    plt.figure()\n",
    "    plt.plot(losses)\n",
    "    \n",
    "    print(f'Final loss: {losses[-1]}')"
   ]
  },
  {
   "cell_type": "code",
   "execution_count": 2,
   "metadata": {
    "autoscroll": false,
    "ein.hycell": false,
    "ein.tags": "worksheet-0",
    "slideshow": {
     "slide_type": "-"
    }
   },
   "outputs": [
    {
     "ename": "NameError",
     "evalue": "name 'load_book' is not defined",
     "output_type": "error",
     "traceback": [
      "\u001b[0;31m---------------------------------------------------------------------------\u001b[0m",
      "\u001b[0;31mNameError\u001b[0m                                 Traceback (most recent call last)",
      "\u001b[0;32m<ipython-input-2-7c0700bebb6f>\u001b[0m in \u001b[0;36m<module>\u001b[0;34m()\u001b[0m\n\u001b[0;32m----> 1\u001b[0;31m \u001b[0mdoc\u001b[0m \u001b[0;34m=\u001b[0m \u001b[0mload_book\u001b[0m\u001b[0;34m(\u001b[0m\u001b[0;36m84\u001b[0m\u001b[0;34m)\u001b[0m\u001b[0;34m\u001b[0m\u001b[0;34m\u001b[0m\u001b[0m\n\u001b[0m\u001b[1;32m      2\u001b[0m \u001b[0mvocab\u001b[0m \u001b[0;34m=\u001b[0m \u001b[0mlist\u001b[0m\u001b[0;34m(\u001b[0m\u001b[0mset\u001b[0m\u001b[0;34m(\u001b[0m\u001b[0mdoc\u001b[0m\u001b[0;34m)\u001b[0m\u001b[0;34m)\u001b[0m\u001b[0;34m\u001b[0m\u001b[0;34m\u001b[0m\u001b[0m\n",
      "\u001b[0;31mNameError\u001b[0m: name 'load_book' is not defined"
     ]
    }
   ],
   "source": [
    "doc = load_book(84)\n",
    "vocab = list(set(doc))"
   ]
  },
  {
   "cell_type": "code",
   "execution_count": 16,
   "metadata": {
    "autoscroll": false,
    "ein.hycell": false,
    "ein.tags": "worksheet-0",
    "slideshow": {
     "slide_type": "-"
    }
   },
   "outputs": [],
   "source": [
    "DEBUG = False\n",
    "LIVE_PLOT = False\n",
    "liveloss = PlotLosses()\n",
    "hidden_size = 100\n",
    "n_layers = 2\n",
    "model = 'gru'\n",
    "learning_rate = 0.01\n",
    "n_epochs = 100\n",
    "chunk_len = 200\n",
    "batch_size = 64\n",
    "teacher_ratio = 0.8\n",
    "\n",
    "net = CharRNN(len(vocab), hidden_size, len(vocab), model, n_layers, teacher_ratio).to(device)\n",
    "\n",
    "criterion = nn.CrossEntropyLoss()\n",
    "optimizer = torch.optim.Adam(net.parameters(), lr=learning_rate)\n"
   ]
  },
  {
   "cell_type": "code",
   "execution_count": 17,
   "metadata": {
    "autoscroll": false,
    "ein.hycell": false,
    "ein.tags": "worksheet-0",
    "scrolled": false,
    "slideshow": {
     "slide_type": "-"
    }
   },
   "outputs": [
    {
     "name": "stderr",
     "output_type": "stream",
     "text": [
      "100%|██████████| 100/100 [01:57<00:00,  1.16s/it]\n"
     ]
    },
    {
     "name": "stdout",
     "output_type": "stream",
     "text": [
      "Final loss: 2.9384515380859373\n"
     ]
    },
    {
     "data": {
      "image/png": "[encoded data removed]",
      "text/plain": [
       "<Figure size 432x288 with 1 Axes>"
      ]
     },
     "metadata": {},
     "output_type": "display_data"
    }
   ],
   "source": [
    "\n",
    "run_train(doc, vocab, net, criterion, optimizer, n_epochs, chunk_len, batch_size)\n",
    "torch.save(net.state_dict(), 'state.pt')"
   ]
  },
  {
   "cell_type": "code",
   "execution_count": null,
   "metadata": {
    "autoscroll": false,
    "ein.hycell": false,
    "ein.tags": "worksheet-0",
    "slideshow": {
     "slide_type": "-"
    }
   },
   "outputs": [],
   "source": [
    "\n"
   ]
  },
  {
   "cell_type": "code",
   "execution_count": 19,
   "metadata": {
    "autoscroll": false,
    "ein.hycell": false,
    "ein.tags": "worksheet-0",
    "scrolled": true,
    "slideshow": {
     "slide_type": "-"
    }
   },
   "outputs": [],
   "source": [
    "\n",
    "net.load_state_dict(torch.load('state.pt'))\n",
    "def sample(vocab, net, prime_str, predict_len, temperature, beam_number):\n",
    "    with torch.no_grad():\n",
    "        prime_str = list(prime_str)\n",
    "        predicted = list(prime_str)\n",
    "\n",
    "        hidden = None\n",
    "        prime_inp = char_tensor(prime_str, vocab).unsqueeze(0)\n",
    "        for i in range(len(prime_str)):\n",
    "            _, hidden = net(prime_inp[:,i], hidden)\n",
    "\n",
    "        beams = [(hidden, prime_str)]\n",
    "\n",
    "        for i in range(predict_len):\n",
    "            output_pairs = []\n",
    "            new_hidden = []\n",
    "            for beami, (hidden, result) in enumerate(beams):\n",
    "                inp = char_tensor(result[-1], vocab).unsqueeze(0)\n",
    "                output, hidden = net(inp, hidden)\n",
    "                output_dist = output.data.view(-1).div(temperature).exp()\n",
    "\n",
    "                output_pairs += map(lambda pair: (pair[0], pair[1].item(), beami), enumerate(output_dist))\n",
    "                new_hidden.append(hidden)\n",
    "\n",
    "            output_pairs.sort(key=lambda pair: pair[1], reverse=True)\n",
    "\n",
    "            new_beams = []\n",
    "            for outi, _outv, beami in output_pairs[:beam_number]:\n",
    "                result = list(beams[beami][1])\n",
    "                char = vocab[outi]\n",
    "                result.append(char)\n",
    "                new_beams.append((new_hidden[beami].clone(), result))\n",
    "            beams = new_beams\n",
    "\n",
    "        return list(map(lambda beam: ''.join(beam[1]), new_beams))\n"
   ]
  },
  {
   "cell_type": "code",
   "execution_count": 26,
   "metadata": {
    "autoscroll": false,
    "ein.hycell": false,
    "ein.tags": "worksheet-0",
    "slideshow": {
     "slide_type": "-"
    }
   },
   "outputs": [
    {
     "data": {
      "text/plain": [
       "['How my an                                                                                                                                                                                                                                                                                                                                                                                                                                                                                                                 ']"
      ]
     },
     "execution_count": 26,
     "metadata": {},
     "output_type": "execute_result"
    }
   ],
   "source": [
    "prime_str = 'How my'\n",
    "predict_len = 500\n",
    "temperature = 0.6\n",
    "beam_number = 1\n",
    "\n",
    "sample(vocab, net, prime_str, predict_len, temperature, beam_number)\n"
   ]
  },
  {
   "cell_type": "code",
   "execution_count": null,
   "metadata": {
    "autoscroll": false,
    "ein.hycell": false,
    "ein.tags": "worksheet-0",
    "slideshow": {
     "slide_type": "-"
    }
   },
   "outputs": [],
   "source": []
  },
  {
   "cell_type": "code",
   "execution_count": null,
   "metadata": {
    "autoscroll": false,
    "ein.hycell": false,
    "ein.tags": "worksheet-0",
    "slideshow": {
     "slide_type": "-"
    }
   },
   "outputs": [],
   "source": []
  }
 ],
 "metadata": {
  "kernelspec": {
   "display_name": "Python 3",
   "language": "python",
   "name": "python3"
  },
  "language_info": {
   "codemirror_mode": {
    "name": "ipython",
    "version": 3
   },
   "file_extension": ".py",
   "mimetype": "text/x-python",
   "name": "python",
   "nbconvert_exporter": "python",
   "pygments_lexer": "ipython3",
   "version": "3.7.1"
  },
  "name": "Frankenstein.ipynb"
 },
 "nbformat": 4,
 "nbformat_minor": 2
}
