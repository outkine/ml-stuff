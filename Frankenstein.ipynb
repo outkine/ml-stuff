{
 "cells": [
  {
   "cell_type": "code",
   "execution_count": 33,
   "metadata": {
    "scrolled": true
   },
   "outputs": [
    {
     "data": {
      "text/plain": [
       "device(type='cuda')"
      ]
     },
     "execution_count": 33,
     "metadata": {},
     "output_type": "execute_result"
    }
   ],
   "source": [
    "%matplotlib inline\n",
    "import torch\n",
    "import torch.nn as nn\n",
    "import spacy\n",
    "import gutenberg.acquire\n",
    "import gutenberg.cleanup\n",
    "import string\n",
    "from tqdm import tqdm_notebook as tqdm\n",
    "import matplotlib.pyplot as plt\n",
    "from livelossplot import PlotLosses\n",
    "import random\n",
    "\n",
    "device = torch.device('cuda' if torch.cuda.is_available() else 'cpu')\n",
    "device"
   ]
  },
  {
   "cell_type": "code",
   "execution_count": 43,
   "metadata": {},
   "outputs": [],
   "source": [
    "import pickle\n",
    "import os\n",
    "\n",
    "def read_or_pickle(path, load_default):\n",
    "    path += '.pickle'\n",
    "    if os.path.isfile(path):\n",
    "        return pickle.load(open(path, 'rb'))\n",
    "    else:\n",
    "        data = load_default()\n",
    "        pickle.dump(data, open(path, 'wb'))\n",
    "        return data\n",
    "\n",
    "def load_book(id):\n",
    "    return gutenberg.cleanup.strip_headers(gutenberg.acquire.load_etext(id)).strip()"
   ]
  },
  {
   "cell_type": "code",
   "execution_count": 85,
   "metadata": {},
   "outputs": [],
   "source": [
    "class CharRNN(torch.nn.Module):\n",
    "    def __init__(self, input_size, hidden_size, output_size, model, n_layers):\n",
    "        super().__init__()\n",
    "        self.n_layers = n_layers\n",
    "        self.hidden_size = hidden_size\n",
    "        \n",
    "        self.encoder = nn.Embedding(input_size, hidden_size)\n",
    "        if model == 'gru':\n",
    "            self.rnn = nn.GRU(hidden_size, hidden_size, n_layers)\n",
    "        else:\n",
    "            self.rnn = nn.LSTM(hidden_size, hidden_size, n_layers)\n",
    "        self.decoder = nn.Linear(hidden_size, output_size) \n",
    "                \n",
    "    def forward(self, inp, hidden):\n",
    "        batch_size = inp.size(0) \n",
    "        encoded = self.encoder(inp)\n",
    "        output, hidden = self.rnn(encoded.view(1, batch_size, -1), hidden)\n",
    "        output = self.decoder(output.view(batch_size, -1))\n",
    "        return output, hidden\n",
    "    \n",
    "    def init_hidden(self, batch_size):\n",
    "        return torch.zeros(self.n_layers, batch_size, self.hidden_size, device=device)"
   ]
  },
  {
   "cell_type": "code",
   "execution_count": 76,
   "metadata": {},
   "outputs": [],
   "source": [
    "def char_tensor(chars, vocab):\n",
    "    tensor = torch.zeros(len(chars), dtype=torch.long, device=device)\n",
    "    for i, char in enumerate(chars):\n",
    "        tensor[i] = vocab.index(char)\n",
    "    return tensor \n",
    "        \n",
    "def random_training_set(doc, vocab, chunk_len, batch_size):\n",
    "    inp = torch.zeros(batch_size, chunk_len, dtype=torch.long, device=device)\n",
    "    target = inp.clone()\n",
    "    file_len = len(doc)\n",
    "    \n",
    "    for i in range(batch_size):\n",
    "        start_index = random.randrange(file_len - (chunk_len + 1))\n",
    "        end_index = start_index + chunk_len + 1\n",
    "        chunk = doc[start_index:end_index]\n",
    "        inp[i] = char_tensor(chunk[:-1], vocab)\n",
    "        target[i] = char_tensor(chunk[1:], vocab) \n",
    "\n",
    "    return inp, target"
   ]
  },
  {
   "cell_type": "code",
   "execution_count": 88,
   "metadata": {},
   "outputs": [],
   "source": [
    "def train(inp, target, net, criterion, optimizer, batch_size):\n",
    "    hidden = net.init_hidden(batch_size)\n",
    "    net.zero_grad()\n",
    "    loss = 0\n",
    "    \n",
    "    for i in range(inp.size(1)):\n",
    "        output, hidden = net(inp[:,i], hidden)\n",
    "        loss += criterion(output.view(batch_size, -1), target[:,i])\n",
    "        \n",
    "    loss.backward()\n",
    "    optimizer.step()\n",
    "    \n",
    "    return loss.item() / inp.size(1)"
   ]
  },
  {
   "cell_type": "code",
   "execution_count": 103,
   "metadata": {},
   "outputs": [],
   "source": [
    "def run_train(doc, vocab, net, criterion, optimizer, n_epochs, chunk_len, batch_size, plot_every=1):\n",
    "    losses = []\n",
    "    loss = 0\n",
    "\n",
    "    for epoch in tqdm(range(n_epochs)):\n",
    "        inp, target = random_training_set(doc, vocab, chunk_len,\n",
    "                                          batch_size)\n",
    "        loss += train(inp, target, net, criterion, optimizer, batch_size)\n",
    "\n",
    "        if DEBUG:\n",
    "            return\n",
    "\n",
    "        if epoch % plot_every == 0:\n",
    "            if LIVE_PLOT:\n",
    "                liveloss.update({'loss': loss / plot_every})\n",
    "                liveloss.draw()\n",
    "\n",
    "            losses.append(loss / plot_every)\n",
    "            loss = 0\n",
    "\n",
    "    plt.figure()\n",
    "    plt.plot(losses)\n",
    "    \n",
    "    print(f'Final loss: {losses[-1]}')"
   ]
  },
  {
   "cell_type": "code",
   "execution_count": 79,
   "metadata": {},
   "outputs": [],
   "source": [
    "doc = load_book(84)\n",
    "vocab = list(set(doc))"
   ]
  },
  {
   "cell_type": "code",
   "execution_count": 100,
   "metadata": {
    "scrolled": false
   },
   "outputs": [
    {
     "data": {
      "application/vnd.jupyter.widget-view+json": {
       "model_id": "a0fc58bfb6424f6b93f01ddac82ef077",
       "version_major": 2,
       "version_minor": 0
      },
      "text/plain": [
       "HBox(children=(IntProgress(value=0), HTML(value='')))"
      ]
     },
     "metadata": {},
     "output_type": "display_data"
    },
    {
     "data": {
      "text/plain": [
       "1.7989102172851563"
      ]
     },
     "execution_count": 100,
     "metadata": {},
     "output_type": "execute_result"
    },
    {
     "data": {
      "image/png": "[encoded data removed]",
      "text/plain": [
       "<Figure size 432x288 with 1 Axes>"
      ]
     },
     "metadata": {
      "needs_background": "light"
     },
     "output_type": "display_data"
    }
   ],
   "source": [
    "DEBUG = False\n",
    "LIVE_PLOT = False\n",
    "liveloss = PlotLosses()\n",
    "\n",
    "hidden_size = 100\n",
    "n_layers = 2\n",
    "model = 'gru'\n",
    "learning_rate = 0.01\n",
    "n_epochs = 100\n",
    "chunk_len = 200\n",
    "batch_size = 100\n",
    "\n",
    "net = CharRNN(len(vocab), hidden_size, len(vocab), model, n_layers).to(device)\n",
    "criterion = nn.CrossEntropyLoss()\n",
    "optimizer = torch.optim.Adam(net.parameters(), lr=learning_rate)\n",
    "run_train(doc, vocab, net, criterion, optimizer, n_epochs, chunk_len, batch_size)\n",
    "torch.save(net.state_dict(), 'state.pt')"
   ]
  },
  {
   "cell_type": "code",
   "execution_count": 120,
   "metadata": {
    "scrolled": true
   },
   "outputs": [],
   "source": [
    "def sample(vocab, net, prime_str, predict_len, temperature, beam_number):\n",
    "    with torch.no_grad(): \n",
    "        prime_str = list(prime_str)\n",
    "        predicted = list(prime_str)\n",
    "        \n",
    "        hidden = net.init_hidden(1)\n",
    "        prime_inp = char_tensor(prime_str, vocab).unsqueeze(0)\n",
    "        for i in range(len(prime_str)):\n",
    "            _, hidden = net(prime_inp[:,i], hidden)\n",
    "        inp = prime_inp[:,-1]\n",
    "        \n",
    "        for i in range(predict_len):\n",
    "            output, hidden = net(inp, hidden)\n",
    "            \n",
    "            output_dist = output.data.view(-1).div(temperature).exp()\n",
    "            top_i = torch.multinomial(output_dist, 1)[0]\n",
    "        \n",
    "            predicted_char = vocab[top_i]\n",
    "            predicted.append(predicted_char)\n",
    "            inp = char_tensor(predicted_char, vocab).unsqueeze(0)\n",
    "        \n",
    "        return predicted\n",
    "        \"\"\"\n",
    "        beams = [(hidden, prime_str)]\n",
    "        \n",
    "        for i in range(max_length):\n",
    "            output_pairs = []\n",
    "            new_hidden = []\n",
    "            for beami, (hidden, result) in enumerate(beams):\n",
    "                tensor = input_tensor(result[-1], vocab)\n",
    "                output, hidden = net(tensor, hidden)\n",
    "                \n",
    "                output_pairs += map(lambda pair: (pair[0], pair[1].item(), beami), enumerate(output[0][0]))\n",
    "                new_hidden.append(hidden)\n",
    "            \n",
    "            output_pairs.sort(key=lambda pair: pair[1], reverse=True)\n",
    "            \n",
    "            new_beams = []\n",
    "            for outi, _outv, beami in output_pairs[:beam_number]:\n",
    "                result = list(beams[beami][1])\n",
    "                \n",
    "                if outi == len(vocab): # END TOKEN\n",
    "                    output_sents.append(result)\n",
    "                else:\n",
    "                    char = vocab[outi]\n",
    "                    result.append(char)\n",
    "                    \n",
    "                    if i == max_length - 1:\n",
    "                        output_sents.append(result)\n",
    "                    else:\n",
    "                        new_beams.append((new_hidden[beami].clone(), result))\n",
    "            beams = new_beams\n",
    "            \n",
    "        return list(map(''.join, output_sents))\n",
    "        \"\"\""
   ]
  },
  {
   "cell_type": "code",
   "execution_count": 122,
   "metadata": {},
   "outputs": [
    {
     "name": "stdout",
     "output_type": "stream",
     "text": [
      "Once upon a time, I reman weould a solled by the spire her also crom, and her sestrave consher whellu more the sentu\n"
     ]
    }
   ],
   "source": [
    "prime_str = 'Once upon a time'\n",
    "predict_len = 100\n",
    "temperature = 0.8\n",
    "beam_number = 20\n",
    "\n",
    "result = sample(vocab, net, prime_str, predict_len, temperature, beam_number)\n",
    "print(''.join(result))"
   ]
  },
  {
   "cell_type": "code",
   "execution_count": null,
   "metadata": {},
   "outputs": [],
   "source": []
  }
 ],
 "metadata": {
  "kernelspec": {
   "display_name": "Python 3",
   "language": "python",
   "name": "python3"
  },
  "language_info": {
   "codemirror_mode": {
    "name": "ipython",
    "version": 3
   },
   "file_extension": ".py",
   "mimetype": "text/x-python",
   "name": "python",
   "nbconvert_exporter": "python",
   "pygments_lexer": "ipython3",
   "version": "3.7.1"
  }
 },
 "nbformat": 4,
 "nbformat_minor": 2
}
