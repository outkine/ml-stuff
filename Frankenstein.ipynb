{
 "cells": [
  {
   "cell_type": "code",
   "execution_count": 97,
   "metadata": {
    "autoscroll": false,
    "ein.hycell": false,
    "ein.tags": "worksheet-0",
    "scrolled": true,
    "slideshow": {
     "slide_type": "-"
    }
   },
   "outputs": [
    {
     "data": {
      "text/plain": [
       "device(type='cpu')"
      ]
     },
     "execution_count": 97,
     "metadata": {},
     "output_type": "execute_result"
    }
   ],
   "source": [
    "%matplotlib inline\n",
    "import torch\n",
    "import torch.nn as nn\n",
    "import spacy\n",
    "import gutenberg.acquire\n",
    "import gutenberg.cleanup\n",
    "import string\n",
    "# from tqdm import tqdm\n",
    "from tqdm import tqdm_notebook as tqdm \n",
    "import matplotlib.pyplot as plt\n",
    "from livelossplot import PlotLosses\n",
    "import random\n",
    "\n",
    "device = torch.device('cuda' if torch.cuda.is_available() else 'cpu')\n",
    "device"
   ]
  },
  {
   "cell_type": "code",
   "execution_count": 5,
   "metadata": {
    "autoscroll": false,
    "ein.hycell": false,
    "ein.tags": "worksheet-0",
    "slideshow": {
     "slide_type": "-"
    }
   },
   "outputs": [],
   "source": [
    "import pickle\n",
    "import os\n",
    "\n",
    "def read_or_pickle(path, load_default):\n",
    "    path += '.pickle'\n",
    "    if os.path.isfile(path):\n",
    "        return pickle.load(open(path, 'rb'))\n",
    "    else:\n",
    "        data = load_default()\n",
    "        pickle.dump(data, open(path, 'wb'))\n",
    "        return data\n",
    "\n",
    "def load_book(id):\n",
    "    return gutenberg.cleanup.strip_headers(gutenberg.acquire.load_etext(id)).strip()"
   ]
  },
  {
   "cell_type": "code",
   "execution_count": 6,
   "metadata": {
    "autoscroll": false,
    "ein.hycell": false,
    "ein.tags": "worksheet-0",
    "slideshow": {
     "slide_type": "-"
    }
   },
   "outputs": [],
   "source": [
    "class CharRNN(torch.nn.Module):\n",
    "    def __init__(self, input_size, hidden_size, output_size, model, n_layers):\n",
    "        super().__init__()\n",
    "\n",
    "        self.encoder = nn.Embedding(input_size, hidden_size)\n",
    "        if model == 'gru':\n",
    "            self.rnn = nn.GRU(hidden_size, hidden_size, n_layers)\n",
    "        else:\n",
    "            self.rnn = nn.LSTM(hidden_size, hidden_size, n_layers)\n",
    "        self.decoder = nn.Linear(hidden_size, output_size) \n",
    "\n",
    "    def forward(self, inp, hidden):\n",
    "        batch_size = inp.size(0)\n",
    "        encoded = self.encoder(inp)\n",
    "        output, hidden = self.rnn(encoded.view(1, batch_size, -1), hidden)\n",
    "        output = self.decoder(output.view(batch_size, -1))\n",
    "        return output, hidden"
   ]
  },
  {
   "cell_type": "code",
   "execution_count": 94,
   "metadata": {
    "autoscroll": false,
    "ein.hycell": false,
    "ein.tags": "worksheet-0",
    "slideshow": {
     "slide_type": "-"
    }
   },
   "outputs": [],
   "source": [
    "def char_tensor(chars_ix):\n",
    "    return torch.tensor(chars_ix, dtype=torch.long, device=device)\n",
    "\n",
    "\n",
    "def random_training_set(doc, doc_len, chunk_len, batch_size):\n",
    "    inp = torch.zeros(batch_size, chunk_len, dtype=torch.long, device=device)\n",
    "    target = inp.clone()\n",
    "\n",
    "    for i in range(batch_size):\n",
    "        start_index = random.randrange(doc_len - (chunk_len + 1))\n",
    "        end_index = start_index + chunk_len + 1\n",
    "        chunk = doc[start_index:end_index]\n",
    "        inp[i] = char_tensor(chunk[:-1])\n",
    "        target[i] = char_tensor(chunk[1:])\n",
    "\n",
    "    return inp, target"
   ]
  },
  {
   "cell_type": "code",
   "execution_count": 131,
   "metadata": {
    "autoscroll": false,
    "ein.hycell": false,
    "ein.tags": "worksheet-0",
    "slideshow": {
     "slide_type": "-"
    }
   },
   "outputs": [],
   "source": [
    "def train(vocab, inp, target, net, criterion, optimizer, teacher_ratio):\n",
    "    batch_size = inp.size(0)\n",
    "    hidden = None\n",
    "    net.zero_grad()\n",
    "    loss = 0\n",
    "\n",
    "    for i in range(inp.size(1)):\n",
    "        if i == 0 or random.random() < teacher_ratio:\n",
    "            actual_inp = inp[:, i]\n",
    "        else:\n",
    "            actual_inp = torch.zeros(\n",
    "                batch_size, 1, dtype=torch.long, device=device)\n",
    "            for bi, max_i in enumerate(last_output.argmax(1)):\n",
    "                actual_inp[bi] = max_i\n",
    "        output, hidden = net(actual_inp, hidden)\n",
    "        output = output.view(batch_size, -1)\n",
    "        last_output = output\n",
    "        loss += criterion(output.view(batch_size, -1), target[:, i])\n",
    "\n",
    "    loss.backward()\n",
    "    optimizer.step()\n",
    "\n",
    "    return loss.item() / inp.size(1)"
   ]
  },
  {
   "cell_type": "code",
   "execution_count": 132,
   "metadata": {
    "autoscroll": false,
    "ein.hycell": false,
    "ein.tags": "worksheet-0",
    "slideshow": {
     "slide_type": "-"
    }
   },
   "outputs": [],
   "source": [
    "def run_train(doc,\n",
    "              doc_len,\n",
    "              net,\n",
    "              criterion,\n",
    "              optimizer,\n",
    "              n_epochs,\n",
    "              chunk_len,\n",
    "              batch_size,\n",
    "              teacher_ratio,\n",
    "              plot_every=1):\n",
    "    losses = []\n",
    "\n",
    "    for epoch in tqdm(range(n_epochs)):\n",
    "        inp, target = random_training_set(doc, doc_len, chunk_len, batch_size)\n",
    "        loss = train(vocab, inp, target, net, criterion, optimizer,\n",
    "                     teacher_ratio)\n",
    "\n",
    "        if DEBUG:\n",
    "            return\n",
    "\n",
    "        if LIVE_PLOT:\n",
    "            liveloss.update({'loss': loss / plot_every})\n",
    "            liveloss.draw()\n",
    "\n",
    "        losses.append(loss / plot_every)\n",
    "\n",
    "    plt.figure()\n",
    "    plt.plot(losses)\n",
    "\n",
    "    print(f'Final loss: {losses[-1]}')"
   ]
  },
  {
   "cell_type": "code",
   "execution_count": 119,
   "metadata": {
    "autoscroll": false,
    "ein.hycell": false,
    "ein.tags": "worksheet-0",
    "slideshow": {
     "slide_type": "-"
    }
   },
   "outputs": [],
   "source": [
    "def to_index(string):\n",
    "    return list(map(vocab.index, string))\n",
    "\n",
    "\n",
    "doc = load_book(84)\n",
    "vocab = list(set(doc))\n",
    "doc = to_index(doc)\n",
    "doc_len = len(doc)"
   ]
  },
  {
   "cell_type": "code",
   "execution_count": 141,
   "metadata": {
    "autoscroll": false,
    "ein.hycell": false,
    "ein.tags": "worksheet-0",
    "slideshow": {
     "slide_type": "-"
    }
   },
   "outputs": [],
   "source": [
    "DEBUG = False\n",
    "LIVE_PLOT = False\n",
    "liveloss = PlotLosses()\n",
    "hidden_size = 100\n",
    "n_layers = 2\n",
    "model = 'gru'\n",
    "learning_rate = 0.01\n",
    "n_epochs = 3000\n",
    "chunk_len = 200\n",
    "batch_size = 100\n",
    "teacher_ratio = .8\n",
    "\n",
    "net = CharRNN(len(vocab), hidden_size, len(vocab), model, n_layers).to(device)\n",
    "\n",
    "criterion = nn.CrossEntropyLoss()\n",
    "optimizer = torch.optim.Adam(net.parameters(), lr=learning_rate)"
   ]
  },
  {
   "cell_type": "code",
   "execution_count": 142,
   "metadata": {
    "autoscroll": false,
    "ein.hycell": false,
    "ein.tags": "worksheet-0",
    "scrolled": true,
    "slideshow": {
     "slide_type": "-"
    }
   },
   "outputs": [
    {
     "data": {
      "application/vnd.jupyter.widget-view+json": {
       "model_id": "b439132a053a4b12bebfb0b18d95fc32",
       "version_major": 2,
       "version_minor": 0
      },
      "text/plain": [
       "HBox(children=(IntProgress(value=0, max=3000), HTML(value='')))"
      ]
     },
     "metadata": {},
     "output_type": "display_data"
    },
    {
     "name": "stdout",
     "output_type": "stream",
     "text": [
      "Final loss: 1.8885369873046876\n"
     ]
    },
    {
     "data": {
      "image/png": "[encoded data removed]",
      "text/plain": [
       "<Figure size 432x288 with 1 Axes>"
      ]
     },
     "metadata": {
      "needs_background": "light"
     },
     "output_type": "display_data"
    }
   ],
   "source": [
    "run_train(doc, doc_len, net, criterion, optimizer, n_epochs, chunk_len, batch_size, teacher_ratio)\n",
    "torch.save(net.state_dict(), 'state.pt')"
   ]
  },
  {
   "cell_type": "code",
   "execution_count": 158,
   "metadata": {
    "autoscroll": false,
    "ein.hycell": false,
    "ein.tags": "worksheet-0",
    "scrolled": true,
    "slideshow": {
     "slide_type": "-"
    }
   },
   "outputs": [],
   "source": [
    "net.load_state_dict(torch.load('state.pt'))\n",
    "\n",
    "def sample(vocab, net, prime_str, predict_len, temperature, beam_number):\n",
    "    with torch.no_grad():\n",
    "        prime_str = to_index(prime_str)\n",
    "\n",
    "        hidden = None\n",
    "        prime_inp = char_tensor(prime_str).unsqueeze(0)\n",
    "        for i in range(len(prime_str)):\n",
    "            _, hidden = net(prime_inp[:, i], hidden)\n",
    "        \n",
    "        result = prime_str\n",
    "        for i in range(predict_len):\n",
    "            inp = char_tensor(result[-1]).unsqueeze(0)\n",
    "            output, hidden = net(inp, hidden)\n",
    "            output_dist = output.data.view(-1)\n",
    "            result.append(output_dist.argmax().item())\n",
    "            \n",
    "            \n",
    "        return ''.join([vocab[i] for i in result])\n",
    "\n",
    "        beams = [(hidden, prime_str)]\n",
    "\n",
    "        for i in range(predict_len):\n",
    "            output_pairs = []\n",
    "            new_hidden = []\n",
    "            for beami, (hidden, result) in enumerate(beams):\n",
    "                inp = char_tensor(result[-1]).unsqueeze(0)\n",
    "                output, hidden = net(inp, hidden)\n",
    "                output_dist = output.data.view(-1).div(temperature).exp()\n",
    "\n",
    "                output_pairs.extend([\n",
    "                    (i, out.item(), beami) \n",
    "                    for i, out in enumerate(output_dist)])\n",
    "                new_hidden.append(hidden)\n",
    "\n",
    "            output_pairs.sort(key=lambda pair: pair[1], reverse=True)\n",
    "\n",
    "            new_beams = []\n",
    "            for outi, _outv, beami in output_pairs[:beam_number]:\n",
    "                current_result = beams[beami][1]\n",
    "                new_result = list(current_result)\n",
    "                new_result.append(outi)\n",
    "                new_beams.append((new_hidden[beami].clone(), new_result))\n",
    "            beams = new_beams\n",
    "\n",
    "        return list(\n",
    "            map(lambda beam: ''.join(map(lambda i: vocab[i], beam[1])),\n",
    "                new_beams))\n",
    "\n"
   ]
  },
  {
   "cell_type": "code",
   "execution_count": 164,
   "metadata": {
    "autoscroll": false,
    "ein.hycell": false,
    "ein.tags": "worksheet-0",
    "slideshow": {
     "slide_type": "-"
    }
   },
   "outputs": [
    {
     "name": "stdout",
     "output_type": "stream",
     "text": [
      "Once upon all and aound that I had been the seat the sound of the sountains of the sease of the sease of the same seas of the sountains of the sease of the same seas of the sountains of the sease of the same seas of the sountains of the sease of the same seas of the sountains of the sease of the same seas of the sountains of the sease of the same seas of the sountains of the sease of the same seas of the sountains of the sease of the same seas of the sountains of the sease of the sease of the same seas of the sountains of the sease of the sease of the same seas of the sountains of the sease of the sease of the same seas of the sountains of the sease of the sease of the same seas of the sountains of the sease of the sease of the same seas of the sountains of the sease of the sease of the same seas of the sountains of the sease of the sease of the same seas of the sountains of the sease of the sease of the same seas of the sountains of the sease of the sease of the same seas of the sountains of the\n"
     ]
    },
    {
     "data": {
      "text/plain": [
       "\"\\nfor pred in :\\n    print('===START===')\\n    print(pred)\\n    print('\\n\\n')\\n\""
      ]
     },
     "execution_count": 164,
     "metadata": {},
     "output_type": "execute_result"
    }
   ],
   "source": [
    "prime_str = 'Once upon a'\n",
    "predict_len = 1000\n",
    "temperature = 0.1\n",
    "beam_number = 2\n",
    "\n",
    "res = sample(vocab, net, prime_str, predict_len, temperature, beam_number)\n",
    "print(res)\n",
    "\"\"\"\n",
    "for pred in :\n",
    "    print('===START===')\n",
    "    print(pred)\n",
    "    print('\\n\\n')\n",
    "\"\"\""
   ]
  },
  {
   "cell_type": "code",
   "execution_count": null,
   "metadata": {},
   "outputs": [],
   "source": []
  }
 ],
 "metadata": {
  "kernelspec": {
   "display_name": "Python 3",
   "language": "python",
   "name": "python3"
  },
  "language_info": {
   "codemirror_mode": {
    "name": "ipython",
    "version": 3
   },
   "file_extension": ".py",
   "mimetype": "text/x-python",
   "name": "python",
   "nbconvert_exporter": "python",
   "pygments_lexer": "ipython3",
   "version": "3.7.1"
  },
  "name": "Frankenstein.ipynb"
 },
 "nbformat": 4,
 "nbformat_minor": 2
}
